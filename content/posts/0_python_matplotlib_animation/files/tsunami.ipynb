{
 "cells": [
  {
   "cell_type": "code",
   "execution_count": null,
   "id": "4aee89eb-167b-4c7a-8c09-af04a4f148c0",
   "metadata": {},
   "outputs": [],
   "source": [
    "%matplotlib ipympl\n",
    "import numpy as np\n",
    "import matplotlib.pyplot as plt\n",
    "from matplotlib.animation import FuncAnimation, FFMpegWriter\n",
    "\n",
    "def waterflow(time_step):\n",
    "    #waterfill update\n",
    "    xverts = np.hstack((x, x[::-1]))\n",
    "    yverts = np.hstack((-0.2*np.ones(x.shape), h[time_step,::-1]))\n",
    "    verts = np.vstack((xverts, yverts)).T\n",
    "    waterfill.set_verts([verts])\n",
    "\n",
    "    waterline.set_data(x, h[time_step])\n",
    "    ax.set_title(r'Water elevation [m], time step ' + str(time_step))\n",
    "\n",
    "    return waterline,\n",
    "\n",
    "data = np.loadtxt('tsunami.txt')\n",
    "h = data[:,1:]\n",
    "x = np.arange(1, h.shape[1]+1)\n",
    "\n",
    "fig = plt.figure(figsize=(7, 2.5))\n",
    "ax = fig.add_axes((0.12, 0.2, 0.8, 0.7))\n",
    "ax.set_xlim(1, 100)\n",
    "ax.set_ylim(-0.2, 1.4)\n",
    "ax.set_xticks(range(25, 125, 25))\n",
    "ax.set_yticks(np.arange(-0.2, 1.6, 0.2))\n",
    "ax.set_xlabel('Distance [m]')\n",
    "ax.set_ylabel('Water elevation [m]')\n",
    "ax.grid()\n",
    "\n",
    "# Initialization.\n",
    "waterline, = ax.plot([], [])\n",
    "waterfill = ax.fill_between(x, -0.2, 0, color='b', alpha=0.4)\n",
    "\n",
    "anim = FuncAnimation(fig, waterflow, frames=range(0, 5002, 10), interval=100, blit=True) \n",
    "\n",
    "# Saving to video.\n",
    "metadata = dict(title='shallow_water_flow', artist='Rodrigo Castro')\n",
    "writer = FFMpegWriter(fps=10, metadata=metadata)\n",
    "anim.save('waterflow.mp4', writer=writer)\n",
    "\n",
    "plt.show()"
   ]
  }
 ],
 "metadata": {
  "author": "Rodrigo Castro",
  "github": "rodpcastro",
  "kernelspec": {
   "display_name": "Python 3 (ipykernel)",
   "language": "python",
   "name": "python3"
  },
  "language_info": {
   "codemirror_mode": {
    "name": "ipython",
    "version": 3
   },
   "file_extension": ".py",
   "mimetype": "text/x-python",
   "name": "python",
   "nbconvert_exporter": "python",
   "pygments_lexer": "ipython3",
   "version": "3.12.9"
  }
 },
 "nbformat": 4,
 "nbformat_minor": 5
}
