{
 "cells": [
  {
   "cell_type": "code",
   "execution_count": 1,
   "id": "0b55ac94-697a-4e18-8dce-7dd710c10a40",
   "metadata": {},
   "outputs": [],
   "source": [
    "import sympy as sp"
   ]
  },
  {
   "cell_type": "code",
   "execution_count": 2,
   "id": "2ea01417-9c11-41d3-a255-6ff3cf2a52c4",
   "metadata": {},
   "outputs": [],
   "source": [
    "x = sp.Symbol('x', real=True, nonnegative=True)\n",
    "i, j = sp.symbols('i j', integer=True, nonnegative=True)\n",
    "\n",
    "phi = x**(i+2) * (1 - x)\n",
    "phixx = phi.diff(x, 2)\n",
    "\n",
    "phj = phi.subs(i, j)\n",
    "phjxx = phixx.subs(i, j)"
   ]
  },
  {
   "cell_type": "code",
   "execution_count": 3,
   "id": "25883d05-32d4-4057-bcc5-c59d30ee2917",
   "metadata": {},
   "outputs": [
    {
     "data": {
      "text/latex": [
       "$\\displaystyle \\frac{4 \\left(i + 2\\right) \\left(j + 2\\right) \\left(i^{2} + 3 i j + 4 i + j^{2} + 4 j + 3\\right)}{\\left(i + j + 1\\right) \\left(i + j + 2\\right) \\left(i + j + 3\\right)}$"
      ],
      "text/plain": [
       "4*(i + 2)*(j + 2)*(i**2 + 3*i*j + 4*i + j**2 + 4*j + 3)/((i + j + 1)*(i + j + 2)*(i + j + 3))"
      ]
     },
     "execution_count": 3,
     "metadata": {},
     "output_type": "execute_result"
    }
   ],
   "source": [
    "kij = 2*sp.integrate(phixx*phjxx, (x, 0, 1)).factor()\n",
    "kij"
   ]
  },
  {
   "cell_type": "code",
   "execution_count": 4,
   "id": "3e203975-e3b0-434d-9a8c-32f9ecf3b0e4",
   "metadata": {},
   "outputs": [
    {
     "data": {
      "text/latex": [
       "$\\displaystyle \\frac{4}{\\left(i + j + 5\\right) \\left(i + j + 6\\right) \\left(i + j + 7\\right)}$"
      ],
      "text/plain": [
       "4/((i + j + 5)*(i + j + 6)*(i + j + 7))"
      ]
     },
     "execution_count": 4,
     "metadata": {},
     "output_type": "execute_result"
    }
   ],
   "source": [
    "mij = 2*sp.integrate(phi*phj, (x, 0, 1)).factor()\n",
    "mij"
   ]
  }
 ],
 "metadata": {
  "kernelspec": {
   "display_name": "Python 3 (ipykernel)",
   "language": "python",
   "name": "python3"
  },
  "language_info": {
   "codemirror_mode": {
    "name": "ipython",
    "version": 3
   },
   "file_extension": ".py",
   "mimetype": "text/x-python",
   "name": "python",
   "nbconvert_exporter": "python",
   "pygments_lexer": "ipython3",
   "version": "3.12.9"
  }
 },
 "nbformat": 4,
 "nbformat_minor": 5
}
