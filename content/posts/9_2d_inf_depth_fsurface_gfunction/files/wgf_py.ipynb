{
 "cells": [
  {
   "cell_type": "code",
   "execution_count": 10,
   "id": "6082e712-4166-4f9c-9d51-b22ec0bcc7ca",
   "metadata": {},
   "outputs": [],
   "source": [
    "import sympy as sp\n",
    "\n",
    "x, xi = sp.symbols('x xi', real=True)\n",
    "z = sp.symbols('z', real=True, nonpositive=True)\n",
    "zt = sp.symbols('zeta', real=True, negative=True)\n",
    "K = sp.symbols('K', real=True, nonnegative=True)\n",
    "\n",
    "x1 = x - xi\n",
    "z1 = z - zt\n",
    "z3 = z + zt\n",
    "\n",
    "R = sp.Abs(x1)\n",
    "v1 = sp.Abs(z1)\n",
    "v3 = sp.Abs(z3)\n",
    "\n",
    "# Auxilary variables d.\n",
    "d1 = R**2\n",
    "d2 = v1**2\n",
    "d3 = v3**2\n",
    "d4 = d1 + d2\n",
    "d5  = d4**2\n",
    "d6 = d1 + d3\n",
    "d7 = d6**2\n",
    "d8 = 2*R\n",
    "\n",
    "r1 = sp.sqrt(d4)\n",
    "r3 = sp.sqrt(d6)\n",
    "\n",
    "X = K*R\n",
    "V3 = K*v3\n",
    "Z = V3 - sp.I*X\n",
    "\n",
    "# Auxilary variables k.\n",
    "k1 = 2*K\n",
    "k2 = k1*K\n",
    "\n",
    "# Auxilary variables e.\n",
    "e1 = sp.exp(-Z)\n",
    "e2 = e1*sp.E1(-Z)\n",
    "e3 = e2 + 1/Z\n",
    "e4 = e3 + 1/Z**2\n",
    "e5 = 2*sp.pi*e1\n",
    "e6 = K*e5\n",
    "e7 = K*e6\n",
    "\n",
    "# Auxilary variables s. These variables introduce discontinuities\n",
    "# in the derivatives, which are fixed by the values described in \n",
    "# the comments. They are left like this for checking the expressions.\n",
    "sx1 = sp.sign(x1)\n",
    "sx2 = sx1**2  # sx2 = 1.0 for continuity of Gxx at x = ξ.\n",
    "sz1 = sp.sign(z1)\n",
    "sz2 = sz1**2  # sx2 = 1.0 for continuity of Gzz at z = ζ.\n",
    "sz3 = sp.sign(z3)  # sz3 = -1.0 for continuity of Gz and Gxz at z = -ζ.\n",
    "sz4 = sz3**2  # sz4 = 1.0 for continuity of Gz and Gxz at z = -ζ.\n",
    "sw1 = sx1 * sz1\n",
    "sw2 = sx1 * sz3  # sw2 = -sx1 for continuity of Gxz at z = -ζ."
   ]
  },
  {
   "cell_type": "code",
   "execution_count": 11,
   "id": "b1649846-83a4-4ff6-a7c8-b41d4870c755",
   "metadata": {},
   "outputs": [],
   "source": [
    "G = sp.log(K*r1) + sp.log(K*r3) - 2 * (sp.re(e2) + sp.log(sp.Abs(Z))) - sp.I*e5"
   ]
  },
  {
   "cell_type": "code",
   "execution_count": 12,
   "id": "451cb9da-ef68-4943-9786-ac39ce83e50b",
   "metadata": {},
   "outputs": [
    {
     "data": {
      "text/latex": [
       "$\\displaystyle 0$"
      ],
      "text/plain": [
       "0"
      ]
     },
     "execution_count": 12,
     "metadata": {},
     "output_type": "execute_result"
    }
   ],
   "source": [
    "Gx = sx1 * (R/d4 - R/d6 + k1*sp.im(e3) + e6)\n",
    "sp.simplify(Gx - G.diff(x))"
   ]
  },
  {
   "cell_type": "code",
   "execution_count": 13,
   "id": "07c277b5-edbb-4851-ad39-1874b5022677",
   "metadata": {},
   "outputs": [
    {
     "data": {
      "text/latex": [
       "$\\displaystyle 0$"
      ],
      "text/plain": [
       "0"
      ]
     },
     "execution_count": 13,
     "metadata": {},
     "output_type": "execute_result"
    }
   ],
   "source": [
    "Gz = sz1 * v1/d4 + sz3 * (-v3/d6 + k1*sp.re(e3) + sp.I*e6)\n",
    "sp.simplify(Gz - G.diff(z))"
   ]
  },
  {
   "cell_type": "code",
   "execution_count": 14,
   "id": "b8ee46a6-47bd-4569-a386-dfcfc62988df",
   "metadata": {},
   "outputs": [
    {
     "data": {
      "text/latex": [
       "$\\displaystyle 0$"
      ],
      "text/plain": [
       "0"
      ]
     },
     "execution_count": 14,
     "metadata": {},
     "output_type": "execute_result"
    }
   ],
   "source": [
    "h1 = (d2 - d1)/d5\n",
    "h2 = (d1 - d3)/d7 + k2*sp.re(e4) + sp.I*e7\n",
    "\n",
    "Gxx = sx2 * (h1 + h2)\n",
    "\n",
    "# Sympy returns δ(x-ξ) as the derivative\n",
    "# of sign(x-ξ). I substitute this by zero.\n",
    "J = Gxx - Gx.diff(x)\n",
    "J = J.subs(sp.DiracDelta(x-xi), 0)\n",
    "J.simplify()"
   ]
  },
  {
   "cell_type": "code",
   "execution_count": 15,
   "id": "ade575fb-2026-493b-8078-1c8c3a0b9839",
   "metadata": {},
   "outputs": [
    {
     "data": {
      "text/latex": [
       "$\\displaystyle 0$"
      ],
      "text/plain": [
       "0"
      ]
     },
     "execution_count": 15,
     "metadata": {},
     "output_type": "execute_result"
    }
   ],
   "source": [
    "Gzz = -sz2 * h1 - sz4 * h2\n",
    "\n",
    "# Sympy returns δ(z-ζ) as the derivative of sign(z-ζ) and δ(z+ζ) \n",
    "# as the derivative of sign(z+ζ). I substitute these two by zero.\n",
    "J = Gzz - Gz.diff(z)\n",
    "J = J.subs([(sp.DiracDelta(z-zt), 0), (sp.DiracDelta(z+zt), 0)])\n",
    "J.simplify()"
   ]
  },
  {
   "cell_type": "code",
   "execution_count": 16,
   "id": "1f957e24-e0ac-4090-81b9-b2c2846d55b2",
   "metadata": {},
   "outputs": [
    {
     "data": {
      "text/latex": [
       "$\\displaystyle 0$"
      ],
      "text/plain": [
       "0"
      ]
     },
     "execution_count": 16,
     "metadata": {},
     "output_type": "execute_result"
    }
   ],
   "source": [
    "Gxz = -sw1 * v1*d8/d5 + sw2 * (v3*d8/d7 - k2*sp.im(e4) - e7)\n",
    "\n",
    "J = Gxz - Gx.diff(z)\n",
    "J.simplify()"
   ]
  },
  {
   "cell_type": "markdown",
   "id": "3b2e27ae-c6d1-49e7-8cfe-f1f523b77c3c",
   "metadata": {},
   "source": [
    "After substitution of auxilary variables s, for continuity of the derivatives, we get"
   ]
  },
  {
   "cell_type": "code",
   "execution_count": 17,
   "id": "2c6dd296-1cbc-4194-b412-8af732191e5e",
   "metadata": {},
   "outputs": [],
   "source": [
    "Gz = sz1 * v1/d4 + v3/d6 - k1*sp.re(e3) - sp.I*e6\n",
    "Gxx = (d2 - d1)/d5 + (d1 - d3)/d7 + k2*sp.re(e4) + sp.I*e7\n",
    "Gzz = -Gxx\n",
    "Gxz2 = -sx1 * (sz1 * v1*d8/d5 + v3*d8/d7 - k2*sp.im(e4) - e7)"
   ]
  },
  {
   "cell_type": "markdown",
   "id": "6b821701-6cb2-4b19-b106-5f6e7cf8bb36",
   "metadata": {},
   "source": [
    "which means that the following auxilary variables are not necessary\n",
    "\n",
    "h1\n",
    "h2\n",
    "sx2\n",
    "sz2\n",
    "sz3\n",
    "sz4\n",
    "sw1\n",
    "sw2\n",
    "\n",
    "and this simplifies our expressions even further"
   ]
  }
 ],
 "metadata": {
  "kernelspec": {
   "display_name": "Python 3 (ipykernel)",
   "language": "python",
   "name": "python3"
  },
  "language_info": {
   "codemirror_mode": {
    "name": "ipython",
    "version": 3
   },
   "file_extension": ".py",
   "mimetype": "text/x-python",
   "name": "python",
   "nbconvert_exporter": "python",
   "pygments_lexer": "ipython3",
   "version": "3.12.9"
  }
 },
 "nbformat": 4,
 "nbformat_minor": 5
}
